{
 "cells": [
  {
   "cell_type": "code",
   "execution_count": 34,
   "id": "3f5af000",
   "metadata": {},
   "outputs": [],
   "source": [
    "import pandas as pd\n",
    "import matplotlib.pyplot as plt\n",
    "import seaborn as sns\n",
    "import mysql.connector\n",
    "\n",
    "# fetch data from mysql\n",
    "\n",
    "db = mysql.connector.connect(host = 'localhost',username = 'root',password='9651',database='ecommerce')\n",
    "curr = db.cursor()"
   ]
  },
  {
   "cell_type": "code",
   "execution_count": 47,
   "id": "15c46825",
   "metadata": {},
   "outputs": [
    {
     "data": {
      "text/html": [
       "<div>\n",
       "<style scoped>\n",
       "    .dataframe tbody tr th:only-of-type {\n",
       "        vertical-align: middle;\n",
       "    }\n",
       "\n",
       "    .dataframe tbody tr th {\n",
       "        vertical-align: top;\n",
       "    }\n",
       "\n",
       "    .dataframe thead th {\n",
       "        text-align: right;\n",
       "    }\n",
       "</style>\n",
       "<table border=\"1\" class=\"dataframe\">\n",
       "  <thead>\n",
       "    <tr style=\"text-align: right;\">\n",
       "      <th></th>\n",
       "      <th>0</th>\n",
       "    </tr>\n",
       "  </thead>\n",
       "  <tbody>\n",
       "    <tr>\n",
       "      <th>0</th>\n",
       "      <td>franca</td>\n",
       "    </tr>\n",
       "    <tr>\n",
       "      <th>1</th>\n",
       "      <td>sao bernardo do campo</td>\n",
       "    </tr>\n",
       "    <tr>\n",
       "      <th>2</th>\n",
       "      <td>sao paulo</td>\n",
       "    </tr>\n",
       "    <tr>\n",
       "      <th>3</th>\n",
       "      <td>mogi das cruzes</td>\n",
       "    </tr>\n",
       "    <tr>\n",
       "      <th>4</th>\n",
       "      <td>campinas</td>\n",
       "    </tr>\n",
       "  </tbody>\n",
       "</table>\n",
       "</div>"
      ],
      "text/plain": [
       "                       0\n",
       "0                 franca\n",
       "1  sao bernardo do campo\n",
       "2              sao paulo\n",
       "3        mogi das cruzes\n",
       "4               campinas"
      ]
     },
     "execution_count": 47,
     "metadata": {},
     "output_type": "execute_result"
    }
   ],
   "source": [
    " # Q1. List all unique cities where customers are located.\n",
    "    \n",
    "query = \"\"\" select distinct customer_city from customers \"\"\"\n",
    "\n",
    "curr.execute(query)\n",
    "data =curr.fetchall()\n",
    "df  = pd.DataFrame(data)\n",
    "df.head()\n",
    "\n"
   ]
  },
  {
   "cell_type": "code",
   "execution_count": 19,
   "id": "034eee4e",
   "metadata": {},
   "outputs": [
    {
     "data": {
      "text/plain": [
       "('Total  orders placed in 2017 are: ', 180404)"
      ]
     },
     "execution_count": 19,
     "metadata": {},
     "output_type": "execute_result"
    }
   ],
   "source": [
    "# Q2. Count the number of orders placed in 2017.\n",
    "query = \"\"\" select count(order_id) from orders where year(order_purchase_timestamp) = 2017\"\"\"\n",
    "curr.execute(query)\n",
    "data = curr.fetchall()\n",
    "\n",
    "#print\n",
    "# data\n",
    "#print data\n",
    "# data[0]\n",
    "# print value\n",
    "\"Total  orders placed in 2017 are: \",data[0][0]\n"
   ]
  },
  {
   "cell_type": "code",
   "execution_count": 23,
   "id": "d3e2c37f",
   "metadata": {},
   "outputs": [
    {
     "data": {
      "text/html": [
       "<div>\n",
       "<style scoped>\n",
       "    .dataframe tbody tr th:only-of-type {\n",
       "        vertical-align: middle;\n",
       "    }\n",
       "\n",
       "    .dataframe tbody tr th {\n",
       "        vertical-align: top;\n",
       "    }\n",
       "\n",
       "    .dataframe thead th {\n",
       "        text-align: right;\n",
       "    }\n",
       "</style>\n",
       "<table border=\"1\" class=\"dataframe\">\n",
       "  <thead>\n",
       "    <tr style=\"text-align: right;\">\n",
       "      <th></th>\n",
       "      <th>Category</th>\n",
       "      <th>Sales</th>\n",
       "    </tr>\n",
       "  </thead>\n",
       "  <tbody>\n",
       "    <tr>\n",
       "      <th>0</th>\n",
       "      <td>PERFUMERY</td>\n",
       "      <td>18242591.76</td>\n",
       "    </tr>\n",
       "    <tr>\n",
       "      <th>1</th>\n",
       "      <td>FURNITURE DECORATION</td>\n",
       "      <td>51486350.10</td>\n",
       "    </tr>\n",
       "    <tr>\n",
       "      <th>2</th>\n",
       "      <td>TELEPHONY</td>\n",
       "      <td>17527753.83</td>\n",
       "    </tr>\n",
       "    <tr>\n",
       "      <th>3</th>\n",
       "      <td>BED TABLE BATH</td>\n",
       "      <td>61651932.16</td>\n",
       "    </tr>\n",
       "    <tr>\n",
       "      <th>4</th>\n",
       "      <td>AUTOMOTIVE</td>\n",
       "      <td>30682595.92</td>\n",
       "    </tr>\n",
       "    <tr>\n",
       "      <th>...</th>\n",
       "      <td>...</td>\n",
       "      <td>...</td>\n",
       "    </tr>\n",
       "    <tr>\n",
       "      <th>69</th>\n",
       "      <td>CDS MUSIC DVDS</td>\n",
       "      <td>43179.48</td>\n",
       "    </tr>\n",
       "    <tr>\n",
       "      <th>70</th>\n",
       "      <td>LA CUISINE</td>\n",
       "      <td>104887.08</td>\n",
       "    </tr>\n",
       "    <tr>\n",
       "      <th>71</th>\n",
       "      <td>FASHION CHILDREN'S CLOTHING</td>\n",
       "      <td>28284.12</td>\n",
       "    </tr>\n",
       "    <tr>\n",
       "      <th>72</th>\n",
       "      <td>PC GAMER</td>\n",
       "      <td>78279.48</td>\n",
       "    </tr>\n",
       "    <tr>\n",
       "      <th>73</th>\n",
       "      <td>INSURANCE AND SERVICES</td>\n",
       "      <td>11682.36</td>\n",
       "    </tr>\n",
       "  </tbody>\n",
       "</table>\n",
       "<p>74 rows × 2 columns</p>\n",
       "</div>"
      ],
      "text/plain": [
       "                       Category        Sales\n",
       "0                     PERFUMERY  18242591.76\n",
       "1          FURNITURE DECORATION  51486350.10\n",
       "2                     TELEPHONY  17527753.83\n",
       "3                BED TABLE BATH  61651932.16\n",
       "4                    AUTOMOTIVE  30682595.92\n",
       "..                          ...          ...\n",
       "69               CDS MUSIC DVDS     43179.48\n",
       "70                   LA CUISINE    104887.08\n",
       "71  FASHION CHILDREN'S CLOTHING     28284.12\n",
       "72                     PC GAMER     78279.48\n",
       "73       INSURANCE AND SERVICES     11682.36\n",
       "\n",
       "[74 rows x 2 columns]"
      ]
     },
     "execution_count": 23,
     "metadata": {},
     "output_type": "execute_result"
    }
   ],
   "source": [
    "# Q3. Find the total sales per category.\n",
    "\n",
    "query = \"\"\" select upper(products.product_category) as category,\n",
    "round(sum(payments.payment_value),2) as sales\n",
    "from products join order_items\n",
    "on products.product_id= order_items.product_id\n",
    "join payments\n",
    "on payments.order_id = order_items.order_id\n",
    "group by category \n",
    "\"\"\"\n",
    "curr.execute(query)\n",
    "data = curr.fetchall()\n",
    "df = pd.DataFrame(data, columns= [\"Category\",\"Sales\"])\n",
    "df"
   ]
  },
  {
   "cell_type": "code",
   "execution_count": 30,
   "id": "9d8fc505",
   "metadata": {},
   "outputs": [
    {
     "data": {
      "text/plain": [
       "('The percentage of orders that were paid in installments is: ',\n",
       " [(Decimal('99.9981'),)])"
      ]
     },
     "execution_count": 30,
     "metadata": {},
     "output_type": "execute_result"
    }
   ],
   "source": [
    "# Q4 Calculate the percentage of orders that were paid in installments.\n",
    "query = \"\"\" select sum(case when payments.payment_installments >= 1 then 1 else 0 end)/ count(*)*100 from payments\n",
    "\"\"\"\n",
    "curr.execute(query)\n",
    "data  =curr.fetchall()\n",
    "\"The percentage of orders that were paid in installments is: \",data[0][0]"
   ]
  },
  {
   "cell_type": "code",
   "execution_count": 46,
   "id": "6663555e",
   "metadata": {},
   "outputs": [
    {
     "data": {
      "image/png": "[encoded data removed]",
      "text/plain": [
       "<Figure size 1000x500 with 1 Axes>"
      ]
     },
     "metadata": {},
     "output_type": "display_data"
    }
   ],
   "source": [
    "# Count the number of customers from each state\n",
    "query = \"\"\" select customer_state,count(customers.customer_id) from customers group by customer_state \"\"\"\n",
    "curr.execute(query)\n",
    "data = curr.fetchall()\n",
    "df =pd.DataFrame(data, columns = [\"State\",\"Members\"])\n",
    "#print(df)\n",
    "df = df.sort_values(by = \"Members\",ascending = False)\n",
    "plt.figure(figsize = (10,5))\n",
    "plt.bar(df[\"State\"],df[\"Members\"])\n",
    "plt.xticks(rotation = 90)\n",
    "\n",
    "plt.show()\n"
   ]
  },
  {
   "cell_type": "code",
   "execution_count": null,
   "id": "be71df16",
   "metadata": {},
   "outputs": [],
   "source": []
  }
 ],
 "metadata": {
  "kernelspec": {
   "display_name": "Python 3 (ipykernel)",
   "language": "python",
   "name": "python3"
  },
  "language_info": {
   "codemirror_mode": {
    "name": "ipython",
    "version": 3
   },
   "file_extension": ".py",
   "mimetype": "text/x-python",
   "name": "python",
   "nbconvert_exporter": "python",
   "pygments_lexer": "ipython3",
   "version": "3.7.6"
  }
 },
 "nbformat": 4,
 "nbformat_minor": 5
}
